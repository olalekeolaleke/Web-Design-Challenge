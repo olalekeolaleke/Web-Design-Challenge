{
 "cells": [
  {
   "cell_type": "code",
   "execution_count": 7,
   "id": "0f934b8a",
   "metadata": {},
   "outputs": [],
   "source": [
    "# Import Dependencies\n",
    "import pandas as pd"
   ]
  },
  {
   "cell_type": "code",
   "execution_count": 8,
   "id": "d673d787",
   "metadata": {},
   "outputs": [],
   "source": [
    "# Reading CSV file using pandas\n",
    "df = pd.read_csv(\"Resources/cities.csv\")"
   ]
  },
  {
   "cell_type": "code",
   "execution_count": 9,
   "id": "36c1a2d7",
   "metadata": {},
   "outputs": [],
   "source": [
    "# Converting csv to html\n",
    "df.to_html(\"csvtodata.html\")"
   ]
  },
  {
   "cell_type": "code",
   "execution_count": 11,
   "id": "72782c1f",
   "metadata": {},
   "outputs": [],
   "source": [
    "# Printing data\n",
    "data = df.to_html()\n"
   ]
  },
  {
   "cell_type": "code",
   "execution_count": null,
   "id": "b7415577",
   "metadata": {},
   "outputs": [],
   "source": []
  }
 ],
 "metadata": {
  "kernelspec": {
   "display_name": "Python 3 (ipykernel)",
   "language": "python",
   "name": "python3"
  },
  "language_info": {
   "codemirror_mode": {
    "name": "ipython",
    "version": 3
   },
   "file_extension": ".py",
   "mimetype": "text/x-python",
   "name": "python",
   "nbconvert_exporter": "python",
   "pygments_lexer": "ipython3",
   "version": "3.9.12"
  }
 },
 "nbformat": 4,
 "nbformat_minor": 5
}
